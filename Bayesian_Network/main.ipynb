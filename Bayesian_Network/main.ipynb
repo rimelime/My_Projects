{
 "cells": [
  {
   "cell_type": "code",
   "execution_count": null,
   "id": "91333844",
   "metadata": {},
   "outputs": [
    {
     "name": "stdout",
     "output_type": "stream",
     "text": [
      "11.2.1\n",
      "d:\\Anaconda3\\envs\\bayesian\\python.exe\n"
     ]
    }
   ],
   "source": [
    "import pandas as pd\n",
    "import numpy as np\n",
    "from sklearn.model_selection import train_test_split\n",
    "from sklearn.preprocessing import LabelEncoder\n",
    "from pgmpy.models import BayesianModel\n",
    "from pgmpy.estimators import HillClimbSearch, BicScore, BayesianEstimator\n",
    "from pgmpy.inference import VariableElimination\n",
    "from sklearn.metrics import classification_report, confusion_matrix, ConfusionMatrixDisplay\n",
    "import matplotlib.pyplot as plt\n",
    "import os"
   ]
  },
  {
   "cell_type": "code",
   "execution_count": 45,
   "id": "c8aa9979",
   "metadata": {},
   "outputs": [
    {
     "name": "stdout",
     "output_type": "stream",
     "text": [
      "<class 'pandas.core.frame.DataFrame'>\n",
      "RangeIndex: 60428 entries, 0 to 60427\n",
      "Data columns (total 40 columns):\n",
      " #   Column                      Non-Null Count  Dtype  \n",
      "---  ------                      --------------  -----  \n",
      " 0   food_category               60428 non-null  int64  \n",
      " 1   food_department             60428 non-null  int64  \n",
      " 2   food_family                 60428 non-null  int64  \n",
      " 3   store_sales(in millions)    60428 non-null  int64  \n",
      " 4   store_cost(in millions)     60428 non-null  int64  \n",
      " 5   unit_sales(in millions)     60428 non-null  float64\n",
      " 6   promotion_name              60428 non-null  int64  \n",
      " 7   sales_country               60428 non-null  int64  \n",
      " 8   marital_status              60428 non-null  int64  \n",
      " 9   gender                      60428 non-null  int64  \n",
      " 10  total_children              60428 non-null  float64\n",
      " 11  education                   60428 non-null  int64  \n",
      " 12  member_card                 60428 non-null  int64  \n",
      " 13  occupation                  60428 non-null  int64  \n",
      " 14  houseowner                  60428 non-null  int64  \n",
      " 15  avg_cars_at home(approx)    60428 non-null  int64  \n",
      " 16  avg. yearly_income          60428 non-null  int64  \n",
      " 17  num_children_at_home        60428 non-null  int64  \n",
      " 18  avg_cars_at home(approx).1  60428 non-null  float64\n",
      " 19  brand_name                  60428 non-null  int64  \n",
      " 20  SRP                         60428 non-null  int64  \n",
      " 21  gross_weight                60428 non-null  int64  \n",
      " 22  net_weight                  60428 non-null  int64  \n",
      " 23  recyclable_package          60428 non-null  int64  \n",
      " 24  low_fat                     60428 non-null  int64  \n",
      " 25  units_per_case              60428 non-null  int64  \n",
      " 26  store_type                  60428 non-null  int64  \n",
      " 27  store_city                  60428 non-null  int64  \n",
      " 28  store_state                 60428 non-null  int64  \n",
      " 29  store_sqft                  60428 non-null  int64  \n",
      " 30  grocery_sqft                60428 non-null  int64  \n",
      " 31  frozen_sqft                 60428 non-null  int64  \n",
      " 32  meat_sqft                   60428 non-null  int64  \n",
      " 33  coffee_bar                  60428 non-null  int64  \n",
      " 34  video_store                 60428 non-null  int64  \n",
      " 35  salad_bar                   60428 non-null  int64  \n",
      " 36  prepared_food               60428 non-null  int64  \n",
      " 37  florist                     60428 non-null  int64  \n",
      " 38  media_type                  60428 non-null  int64  \n",
      " 39  cost                        60428 non-null  int64  \n",
      "dtypes: float64(3), int64(37)\n",
      "memory usage: 18.4 MB\n",
      "None\n"
     ]
    }
   ],
   "source": [
    "BASE_DIR=os.getcwd()\n",
    "csv_path = os.path.join(BASE_DIR,\"cleaned_data.csv\")\n",
    "outputPath = os.path.join(BASE_DIR,\"Bayesian_Model.pkl\")\n",
    "df = pd.read_csv(csv_path)\n",
    "print(df.info())"
   ]
  },
  {
   "cell_type": "code",
   "execution_count": 46,
   "id": "de607593",
   "metadata": {},
   "outputs": [],
   "source": [
    "def learn_bayesian_network(df):\n",
    "    # df, encoders = preprocess_data(df, target_col)\n",
    "    \n",
    "    # Split into train and test\n",
    "    train_data, test_data = train_test_split(df, test_size=0.02, random_state=42)\n",
    "    \n",
    "    # Learn structure\n",
    "    hc = HillClimbSearch(train_data)\n",
    "    best_model = hc.estimate(scoring_method=BicScore(train_data))\n",
    "    print(best_model.edges())\n",
    "    # Learn parameters\n",
    "    model = BayesianModel(best_model.edges())\n",
    "    model.fit(train_data, estimator=BayesianEstimator, prior_type=\"BDeu\")\n",
    "\n",
    "    return model, test_data, df.columns[-1]\n",
    "\n",
    "def predict(model, test_data, target_col):\n",
    "    infer = VariableElimination(model)\n",
    "    model_vars = set(model.nodes())\n",
    "    y_pred = []\n",
    "    # i = 0\n",
    "    for _, row in test_data.drop(columns=[target_col]).iterrows():\n",
    "        evidence = {k: v for k, v in row.to_dict().items() if k in model_vars}\n",
    "        q = infer.map_query([target_col], evidence=evidence,show_progress=False)\n",
    "        # print(q,test_data[target_col].iloc[i])\n",
    "        # if isinstance(q, dict):\n",
    "        y_pred.append(q[target_col])\n",
    "        # else:\n",
    "        #     y_pred.append(q)\n",
    "        # i+=1\n",
    "    return y_pred"
   ]
  },
  {
   "cell_type": "code",
   "execution_count": 47,
   "id": "6181e606",
   "metadata": {},
   "outputs": [
    {
     "name": "stderr",
     "output_type": "stream",
     "text": [
      "  0%|          | 79/1000000 [01:57<412:03:45,  1.48s/it]\n",
      "d:\\Anaconda3\\envs\\bayesian\\lib\\site-packages\\pgmpy\\models\\BayesianModel.py:8: FutureWarning: BayesianModel has been renamed to BayesianNetwork. Please use BayesianNetwork class, BayesianModel will be removed in future.\n",
      "  warnings.warn(\n"
     ]
    },
    {
     "name": "stdout",
     "output_type": "stream",
     "text": [
      "[('food_category', 'food_department'), ('food_department', 'brand_name'), ('food_department', 'food_family'), ('food_department', 'gross_weight'), ('store_sales(in millions)', 'SRP'), ('store_sales(in millions)', 'unit_sales(in millions)'), ('store_cost(in millions)', 'store_sales(in millions)'), ('store_cost(in millions)', 'SRP'), ('unit_sales(in millions)', 'SRP'), ('unit_sales(in millions)', 'total_children'), ('promotion_name', 'store_city'), ('promotion_name', 'media_type'), ('promotion_name', 'cost'), ('marital_status', 'num_children_at_home'), ('marital_status', 'houseowner'), ('marital_status', 'avg. yearly_income'), ('gender', 'houseowner'), ('gender', 'avg. yearly_income'), ('gender', 'marital_status'), ('total_children', 'num_children_at_home'), ('total_children', 'avg. yearly_income'), ('total_children', 'gender'), ('total_children', 'marital_status'), ('occupation', 'education'), ('houseowner', 'num_children_at_home'), ('avg_cars_at home(approx)', 'avg_cars_at home(approx).1'), ('avg. yearly_income', 'education'), ('avg. yearly_income', 'occupation'), ('avg. yearly_income', 'member_card'), ('avg. yearly_income', 'avg_cars_at home(approx)'), ('avg. yearly_income', 'houseowner'), ('num_children_at_home', 'member_card'), ('num_children_at_home', 'avg_cars_at home(approx)'), ('num_children_at_home', 'occupation'), ('brand_name', 'low_fat'), ('brand_name', 'net_weight'), ('brand_name', 'units_per_case'), ('SRP', 'net_weight'), ('SRP', 'units_per_case'), ('SRP', 'low_fat'), ('SRP', 'food_category'), ('SRP', 'recyclable_package'), ('net_weight', 'gross_weight'), ('recyclable_package', 'units_per_case'), ('recyclable_package', 'net_weight'), ('recyclable_package', 'food_category'), ('recyclable_package', 'low_fat'), ('recyclable_package', 'gross_weight'), ('low_fat', 'food_family'), ('store_type', 'unit_sales(in millions)'), ('store_type', 'store_cost(in millions)'), ('store_city', 'store_state'), ('store_city', 'store_sqft'), ('store_city', 'grocery_sqft'), ('store_city', 'frozen_sqft'), ('store_city', 'store_type'), ('store_city', 'florist'), ('store_city', 'salad_bar'), ('store_city', 'coffee_bar'), ('store_city', 'video_store'), ('store_city', 'houseowner'), ('store_city', 'avg. yearly_income'), ('store_city', 'marital_status'), ('store_state', 'sales_country'), ('store_state', 'gender'), ('store_sqft', 'media_type'), ('store_sqft', 'member_card'), ('store_sqft', 'avg_cars_at home(approx)'), ('frozen_sqft', 'meat_sqft'), ('meat_sqft', 'video_store'), ('video_store', 'salad_bar'), ('video_store', 'grocery_sqft'), ('salad_bar', 'prepared_food'), ('prepared_food', 'florist'), ('prepared_food', 'coffee_bar'), ('prepared_food', 'store_sqft'), ('florist', 'store_type'), ('cost', 'store_city')]\n",
      "Model variables: ['food_category', 'food_department', 'brand_name', 'food_family', 'gross_weight', 'store_sales(in millions)', 'SRP', 'unit_sales(in millions)', 'store_cost(in millions)', 'total_children', 'promotion_name', 'store_city', 'media_type', 'cost', 'marital_status', 'num_children_at_home', 'houseowner', 'avg. yearly_income', 'gender', 'occupation', 'education', 'avg_cars_at home(approx)', 'avg_cars_at home(approx).1', 'member_card', 'low_fat', 'net_weight', 'units_per_case', 'recyclable_package', 'store_type', 'store_state', 'store_sqft', 'grocery_sqft', 'frozen_sqft', 'florist', 'salad_bar', 'coffee_bar', 'video_store', 'sales_country', 'meat_sqft', 'prepared_food']\n"
     ]
    }
   ],
   "source": [
    "model, test_data, target_col = learn_bayesian_network(df)\n",
    "\n",
    "#Make predictions on the test data\n",
    "print(\"Model variables:\", model.nodes())\n",
    "predictions = predict(model, test_data, target_col)"
   ]
  },
  {
   "cell_type": "code",
   "execution_count": 48,
   "id": "42fb08c9",
   "metadata": {},
   "outputs": [
    {
     "name": "stdout",
     "output_type": "stream",
     "text": [
      "Classification Report:\n",
      "              precision    recall  f1-score   support\n",
      "\n",
      "           0       0.90      0.95      0.92       242\n",
      "           1       0.93      0.97      0.95       256\n",
      "           2       0.95      0.90      0.92       236\n",
      "           3       0.90      0.90      0.90       243\n",
      "           4       0.98      0.92      0.95       232\n",
      "\n",
      "    accuracy                           0.93      1209\n",
      "   macro avg       0.93      0.93      0.93      1209\n",
      "weighted avg       0.93      0.93      0.93      1209\n",
      "\n"
     ]
    }
   ],
   "source": [
    "# Show the predictions\n",
    "# print('test data: ', test_data[:10])\n",
    "# print(\"Predictions:\", predictions[:10])  # Show first 10 predictions\n",
    "# accuracy = sum(1 for i in range(len(predictions)) if test_data[target_col].iloc[i]==predictions[i]) /len(predictions)\n",
    "# print('accuracy: ', accuracy)\n",
    "true_labels = test_data[target_col].iloc[:len(predictions)]\n",
    "predicted_labels = predictions\n",
    "print(\"Classification Report:\")\n",
    "print(classification_report(true_labels, predicted_labels))"
   ]
  },
  {
   "cell_type": "code",
   "execution_count": 49,
   "id": "7be2cac8",
   "metadata": {},
   "outputs": [
    {
     "data": {
      "image/png": "[encoded data removed]",
      "text/plain": [
       "<Figure size 640x480 with 2 Axes>"
      ]
     },
     "metadata": {},
     "output_type": "display_data"
    }
   ],
   "source": [
    "cm = confusion_matrix(true_labels, predicted_labels)\n",
    "disp = ConfusionMatrixDisplay(confusion_matrix=cm, display_labels=model.states[target_col])\n",
    "disp.plot(cmap='Blues', xticks_rotation=45)\n",
    "plt.title(\"Confusion Matrix Heatmap\")\n",
    "plt.show()"
   ]
  }
 ],
 "metadata": {
  "kernelspec": {
   "display_name": "bayesian",
   "language": "python",
   "name": "python3"
  },
  "language_info": {
   "codemirror_mode": {
    "name": "ipython",
    "version": 3
   },
   "file_extension": ".py",
   "mimetype": "text/x-python",
   "name": "python",
   "nbconvert_exporter": "python",
   "pygments_lexer": "ipython3",
   "version": "3.10.17"
  }
 },
 "nbformat": 4,
 "nbformat_minor": 5
}
