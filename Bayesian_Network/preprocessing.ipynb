{
 "cells": [
  {
   "cell_type": "code",
   "execution_count": 5,
   "metadata": {},
   "outputs": [],
   "source": [
    "import pandas as pd\n",
    "import os"
   ]
  },
  {
   "cell_type": "code",
   "execution_count": 6,
   "metadata": {},
   "outputs": [],
   "source": [
    "csv_path = os.path.join(os.getcwd(),'media prediction and its cost.csv')\n",
    "\n",
    "if not os.path.exists(csv_path):\n",
    "    raise FileNotFoundError(f\"CSV file not found at {csv_path}\")"
   ]
  },
  {
   "cell_type": "code",
   "execution_count": 7,
   "metadata": {},
   "outputs": [],
   "source": [
    "df = pd.read_csv(csv_path)\n",
    "\n",
    "categorical_columns = ['food_category', 'food_department','food_family', 'promotion_name','sales_country','marital_status','gender',\n",
    "'education','member_card','occupation','avg_cars_at home(approx)','avg. yearly_income','num_children_at_home',\n",
    "'brand_name','recyclable_package','low_fat','store_type','store_city','store_state','coffee_bar','video_store',\n",
    "'salad_bar','prepared_food','florist','media_type','houseowner']"
   ]
  },
  {
   "cell_type": "code",
   "execution_count": 8,
   "metadata": {},
   "outputs": [
    {
     "name": "stdout",
     "output_type": "stream",
     "text": [
      "Generated mapping for food_category: {'Breakfast Foods': 0, 'Bread': 1, 'Canned Shrimp': 2, 'Baking Goods': 3, 'Vegetables': 4, 'Frozen Desserts': 5, 'Candy': 6, 'Snack Foods': 7, 'Dairy': 8, 'Starchy Foods': 9, 'Cleaning Supplies': 10, 'Decongestants': 11, 'Meat': 12, 'Hot Beverages': 13, 'Jams and Jellies': 14, 'Carbonated Beverages': 15, 'Seafood': 16, 'Specialty': 17, 'Kitchen Products': 18, 'Electrical': 19, 'Beer and Wine': 20, 'Candles': 21, 'Fruit': 22, 'Pure Juice Beverages': 23, 'Canned Soup': 24, 'Paper Products': 25, 'Canned Tuna': 26, 'Eggs': 27, 'Hardware': 28, 'Canned Sardines': 29, 'Canned Clams': 30, 'Pain Relievers': 31, 'Side Dishes': 32, 'Bathroom Products': 33, 'Magazines': 34, 'Frozen Entrees': 35, 'Pizza': 36, 'Cold Remedies': 37, 'Canned Anchovies': 38, 'Drinks': 39, 'Hygiene': 40, 'Plastic Products': 41, 'Canned Oysters': 42, 'Packaged Vegetables': 43, 'Miscellaneous': 44}\n",
      "Generated mapping for food_department: {'Frozen Foods': 0, 'Baked Goods': 1, 'Canned Foods': 2, 'Baking Goods': 3, 'Produce': 4, 'Snacks': 5, 'Snack Foods': 6, 'Dairy': 7, 'Starchy Foods': 8, 'Household': 9, 'Health and Hygiene': 10, 'Meat': 11, 'Beverages': 12, 'Seafood': 13, 'Deli': 14, 'Alcoholic Beverages': 15, 'Canned Products': 16, 'Eggs': 17, 'Periodicals': 18, 'Breakfast Foods': 19, 'Checkout': 20, 'Carousel': 21}\n",
      "Generated mapping for food_family: {'Food': 0, 'Non-Consumable': 1, 'Drink': 2}\n",
      "Generated mapping for promotion_name: {'Bag Stuffers': 0, 'Cash Register Lottery': 1, 'High Roller Savings': 2, 'Double Down Sale': 3, 'Green Light Days': 4, 'Big Time Savings': 5, 'Price Savers': 6, 'Price Slashers': 7, 'Dollar Days': 8, 'Two Day Sale': 9, 'Super Duper Savers': 10, 'Weekend Markdown': 11, 'Dollar Cutters': 12, 'Sales Galore': 13, 'Big Promo': 14, 'Free For All': 15, 'Savings Galore': 16, 'Unbeatable Price Savers': 17, 'Price Smashers': 18, 'Shelf Clearing Days': 19, 'Sales Days': 20, 'Go For It': 21, 'Super Savers': 22, 'Wallet Savers': 23, 'Save-It Sale': 24, 'Price Destroyers': 25, 'Two for One': 26, 'Big Time Discounts': 27, 'Shelf Emptiers': 28, 'Bye Bye Baby': 29, 'One Day Sale': 30, 'Fantastic Discounts': 31, 'Saving Days': 32, 'You Save Days': 33, 'Sale Winners': 34, 'Coupon Spectacular': 35, 'Three for One': 36, 'Price Winners': 37, 'Dimes Off': 38, 'I Cant Believe It Sale': 39, 'Money Savers': 40, 'Green Light Special': 41, 'Price Cutters': 42, 'Tip Top Savings': 43, 'Best Savings': 44, 'Pick Your Savings': 45, 'Double Your Savings': 46, 'Mystery Sale': 47, 'Super Wallet Savers': 48}\n",
      "Generated mapping for sales_country: {'USA': 0, 'Mexico': 1, 'Canada': 2}\n",
      "Generated mapping for marital_status: {'M': 0, 'S': 1}\n",
      "Generated mapping for gender: {'F': 0, 'M': 1}\n",
      "Generated mapping for education: {'Partial High School': 0, 'Bachelors Degree': 1, 'High School Degree': 2, 'Graduate Degree': 3, 'Partial College': 4}\n",
      "Generated mapping for member_card: {'Normal': 0, 'Silver': 1, 'Bronze': 2, 'Golden': 3}\n",
      "Generated mapping for occupation: {'Skilled Manual': 0, 'Professional': 1, 'Manual': 2, 'Management': 3, 'Clerical': 4}\n",
      "Generated mapping for avg_cars_at home(approx): {1.0: 0, 4.0: 1, 2.0: 2, 3.0: 3, 0.0: 4}\n",
      "Generated mapping for avg. yearly_income: {'$10K - $30K': 0, '$50K - $70K': 1, '$30K - $50K': 2, '$70K - $90K': 3, '$110K - $130K': 4, '$130K - $150K': 5, '$150K +': 6, '$90K - $110K': 7}\n",
      "Generated mapping for num_children_at_home: {1.0: 0, 0.0: 1, 2.0: 2, 3.0: 3, 5.0: 4, 4.0: 5}\n",
      "Generated mapping for brand_name: {'Carrington': 0, 'Golden': 1, 'Imagine': 2, 'Big Time': 3, 'PigTail': 4, 'Fantastic': 5, 'Great': 6, 'Sphinx': 7, 'Modell': 8, 'Colony': 9, 'Blue Label': 10, 'Pleasant': 11, 'Bravo': 12, 'Better': 13, 'Just Right': 14, 'Plato': 15, 'BBB Best': 16, 'Landslide': 17, 'Super': 18, 'CDR': 19, 'High Top': 20, 'Tri-State': 21, 'Hermanos': 22, 'Tell Tale': 23, 'Ebony': 24, 'Thresher': 25, 'Gulf Coast': 26, 'Musial': 27, 'Atomic': 28, 'Choice': 29, 'Fort West': 30, 'Nationeel': 31, 'Horatio': 32, 'Best Choice': 33, 'Fast': 34, 'Gorilla': 35, 'Carlson': 36, 'Even Better': 37, 'Club': 38, 'Booker': 39, 'Shady Lake': 40, 'Monarch': 41, 'Discover': 42, 'Colossal': 43, 'Medalist': 44, 'Jardon': 45, 'Cormorant': 46, 'Sunset': 47, 'Red Wing': 48, 'High Quality': 49, 'Denny': 50, 'Faux Products': 51, 'Steady': 52, 'Consolidated': 53, 'Bird Call': 54, 'Hilltop': 55, 'Ship Shape': 56, 'Footnote': 57, 'Genteel': 58, 'Quick': 59, 'Gerolli': 60, 'Excellent': 61, 'Fabulous': 62, 'Token': 63, 'Skinner': 64, 'Washington': 65, 'Dual City': 66, 'Kiwi': 67, 'Tip Top': 68, 'Amigo': 69, 'Curlew': 70, 'Moms': 71, 'Cutting Edge': 72, 'Red Spade': 73, 'Lake': 74, 'American': 75, 'Walrus': 76, 'Pearl': 77, 'Good': 78, 'Top Measure': 79, 'Portsmouth': 80, 'Toucan': 81, 'Applause': 82, 'Swell': 83, 'Green Ribbon': 84, 'Big City': 85, 'National': 86, 'Blue Medal': 87, 'Urban': 88, 'Jumbo': 89, 'Giant': 90, 'Dollar': 91, 'Mighty Good': 92, 'Robust': 93, 'Gauss': 94, 'Excel': 95, 'Radius': 96, 'Best': 97, 'Jeffers': 98, 'Johnson': 99, 'Special': 100, 'Akron': 101, 'Framton': 102, 'Black Tie': 103, 'Queen': 104, 'James Bay': 105, 'Toretti': 106, 'Prelude': 107, 'Symphony': 108, 'ADJ': 109, 'King': 110}\n",
      "Generated mapping for recyclable_package: {1.0: 0, 0.0: 1}\n",
      "Generated mapping for low_fat: {0.0: 0, 1.0: 1}\n",
      "Generated mapping for store_type: {'Deluxe Supermarket': 0, 'Supermarket': 1, 'Gourmet Supermarket': 2, 'Small Grocery': 3, 'Mid-Size Grocery': 4}\n",
      "Generated mapping for store_city: {'Salem': 0, 'Tacoma': 1, 'Seattle': 2, 'Spokane': 3, 'Los Angeles': 4, 'Beverly Hills': 5, 'Portland': 6, 'Bellingham': 7, 'Orizaba': 8, 'Merida': 9, 'Hidalgo': 10, 'Mexico City': 11, 'Vancouver': 12, 'Bremerton': 13, 'Camacho': 14, 'Guadalajara': 15, 'Acapulco': 16, 'San Francisco': 17, 'Victoria': 18}\n",
      "Generated mapping for store_state: {'OR': 0, 'WA': 1, 'CA': 2, 'Veracruz': 3, 'Yucatan': 4, 'Zacatecas': 5, 'DF': 6, 'BC': 7, 'Jalisco': 8, 'Guerrero': 9}\n",
      "Generated mapping for coffee_bar: {1.0: 0, 0.0: 1}\n",
      "Generated mapping for video_store: {1.0: 0, 0.0: 1}\n",
      "Generated mapping for salad_bar: {1.0: 0, 0.0: 1}\n",
      "Generated mapping for prepared_food: {1.0: 0, 0.0: 1}\n",
      "Generated mapping for florist: {1.0: 0, 0.0: 1}\n",
      "Generated mapping for media_type: {'Daily Paper, Radio': 0, 'In-Store Coupon': 1, 'Radio': 2, 'Daily Paper': 3, 'Product Attachment': 4, 'Sunday Paper, Radio': 5, 'Sunday Paper, Radio, TV': 6, 'Sunday Paper': 7, 'Street Handout': 8, 'TV': 9, 'Bulk Mail': 10, 'Cash Register Handout': 11, 'Daily Paper, Radio, TV': 12}\n",
      "Generated mapping for houseowner: {'Y': 0, 'N': 1}\n"
     ]
    }
   ],
   "source": [
    "for col in categorical_columns:\n",
    "    unique_categories = df[col].unique()\n",
    "\n",
    "    mapping = {}\n",
    "    for idx, category in enumerate(unique_categories):\n",
    "        mapping[category] = idx  # Assign a unique number to each category\n",
    "    \n",
    "    print(f\"Generated mapping for {col}: {mapping}\")\n",
    "    df[col] = df[col].map(mapping)"
   ]
  },
  {
   "cell_type": "code",
   "execution_count": 9,
   "metadata": {},
   "outputs": [],
   "source": [
    "def categorize_sales(value, very_low, low, medium, high):\n",
    "        if value < very_low:\n",
    "            return 0  # Very Low\n",
    "        elif value < low:\n",
    "            return 1  # Low\n",
    "        elif value < medium:\n",
    "            return 2  # Medium\n",
    "        elif value < high:\n",
    "            return 3  # High\n",
    "        else:\n",
    "            return 4  # Very High"
   ]
  },
  {
   "cell_type": "code",
   "execution_count": 10,
   "metadata": {},
   "outputs": [
    {
     "name": "stdout",
     "output_type": "stream",
     "text": [
      "    - Very Low (< 3.36) → 0\n",
      "    - Low (< 5.19) → 1\n",
      "    - Medium (< 7.04) → 2\n",
      "    - High (< 9.52) → 3\n",
      "    - Very High (≥ 9.52) → 4\n",
      "    - Very Low (< 1.3056) → 0\n",
      "    - Low (< 2.0412) → 1\n",
      "    - Medium (< 2.7676799999999986) → 2\n",
      "    - High (< 3.7674) → 3\n",
      "    - Very High (≥ 3.7674) → 4\n",
      "    - Very Low (< 1.28) → 0\n",
      "    - Low (< 1.77) → 1\n",
      "    - Medium (< 2.38) → 2\n",
      "    - High (< 2.92) → 3\n",
      "    - Very High (≥ 2.92) → 4\n",
      "    - Very Low (< 9.02) → 0\n",
      "    - Low (< 11.9) → 1\n",
      "    - Medium (< 15.3) → 2\n",
      "    - High (< 18.7) → 3\n",
      "    - Very High (≥ 18.7) → 4\n",
      "    - Very Low (< 8.0) → 0\n",
      "    - Low (< 15.0) → 1\n",
      "    - Medium (< 23.0) → 2\n",
      "    - High (< 29.0) → 3\n",
      "    - Very High (≥ 29.0) → 4\n",
      "    - Very Low (< 23112.0) → 0\n",
      "    - Low (< 23759.0) → 1\n",
      "    - Medium (< 30268.0) → 2\n",
      "    - High (< 33858.0) → 3\n",
      "    - Very High (≥ 33858.0) → 4\n",
      "    - Very Low (< 15337.0) → 0\n",
      "    - Low (< 16844.0) → 1\n",
      "    - Medium (< 20141.0) → 2\n",
      "    - High (< 22123.0) → 3\n",
      "    - Very High (≥ 22123.0) → 4\n",
      "    - Very Low (< 4149.0) → 0\n",
      "    - Low (< 4923.0) → 1\n",
      "    - Medium (< 5415.0) → 2\n",
      "    - High (< 6393.0) → 3\n",
      "    - Very High (≥ 6393.0) → 4\n",
      "    - Very Low (< 2766.0) → 0\n",
      "    - Low (< 3282.0) → 1\n",
      "    - Medium (< 3610.0) → 2\n",
      "    - High (< 4262.0) → 3\n",
      "    - Very High (≥ 4262.0) → 4\n",
      "    - Very Low (< 7.1) → 0\n",
      "    - Low (< 9.89) → 1\n",
      "    - Medium (< 13.5) → 2\n",
      "    - High (< 16.7) → 3\n",
      "    - Very High (≥ 16.7) → 4\n",
      "    - Very Low (< 67.31) → 0\n",
      "    - Low (< 90.58) → 1\n",
      "    - Medium (< 108.22) → 2\n",
      "    - High (< 131.81) → 3\n",
      "    - Very High (≥ 131.81) → 4\n"
     ]
    }
   ],
   "source": [
    "categorical_columns = ['store_sales(in millions)','store_cost(in millions)','SRP','gross_weight','units_per_case',\n",
    "'store_sqft','grocery_sqft','frozen_sqft','meat_sqft','net_weight','cost']\n",
    "for col in categorical_columns:\n",
    "    very_low = df[col].quantile(0.2)  # 20th percentile\n",
    "    low = df[col].quantile(0.4)       # 40th percentile\n",
    "    medium = df[col].quantile(0.6)    # 60th percentile (Median)\n",
    "    high = df[col].quantile(0.8)      # 80th percentile\n",
    "     # Define categorization function\n",
    "     \n",
    "    print(f\"    - Very Low (< {very_low}) → 0\")\n",
    "    print(f\"    - Low (< {low}) → 1\")\n",
    "    print(f\"    - Medium (< {medium}) → 2\")\n",
    "    print(f\"    - High (< {high}) → 3\")\n",
    "    print(f\"    - Very High (≥ {high}) → 4\")\n",
    "\n",
    "    # Apply categorization and convert to numeric values\n",
    "    df[col] = df[col].apply(lambda x: categorize_sales(x, very_low, low, medium, high))"
   ]
  },
  {
   "cell_type": "code",
   "execution_count": 11,
   "metadata": {},
   "outputs": [],
   "source": [
    "if os.path.exists(\"cleaned_data.csv\"):\n",
    "    os.remove(\"cleaned_data.csv\")\n",
    "df.to_csv(\"cleaned_data.csv\", index=False)"
   ]
  },
  {
   "cell_type": "code",
   "execution_count": 12,
   "metadata": {},
   "outputs": [],
   "source": [
    "df=df.head(10)\n",
    "if os.path.exists(\"shorten_cleaned_data.csv\"):\n",
    "    os.remove(\"shorten_cleaned_data.csv\")\n",
    "df.to_csv(\"shorten_cleaned_data.csv\", index=False)"
   ]
  }
 ],
 "metadata": {
  "kernelspec": {
   "display_name": "deeplearning",
   "language": "python",
   "name": "python3"
  },
  "language_info": {
   "codemirror_mode": {
    "name": "ipython",
    "version": 3
   },
   "file_extension": ".py",
   "mimetype": "text/x-python",
   "name": "python",
   "nbconvert_exporter": "python",
   "pygments_lexer": "ipython3",
   "version": "3.12.3"
  }
 },
 "nbformat": 4,
 "nbformat_minor": 2
}
