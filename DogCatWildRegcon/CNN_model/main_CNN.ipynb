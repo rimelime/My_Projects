{
 "cells": [
  {
   "cell_type": "code",
   "execution_count": 1,
   "metadata": {},
   "outputs": [
    {
     "ename": "",
     "evalue": "",
     "output_type": "error",
     "traceback": [
      "\u001b[1;31mThe Kernel crashed while executing code in the current cell or a previous cell. \n",
      "\u001b[1;31mPlease review the code in the cell(s) to identify a possible cause of the failure. \n",
      "\u001b[1;31mClick <a href='https://aka.ms/vscodeJupyterKernelCrash'>here</a> for more info. \n",
      "\u001b[1;31mView Jupyter <a href='command:jupyter.viewOutput'>log</a> for further details."
     ]
    }
   ],
   "source": [
    "import torch\n",
    "import torch.nn as nn\n",
    "import torch.optim as optim\n",
    "# from torchvision.transforms import transforms\n",
    "# from torchvision.datasets import ImageFolder\n",
    "# import torchvision.models as models\n",
    "from torch.utils.data import Dataset,DataLoader,TensorDataset\n",
    "# import pandas as pd\n",
    "# import numpy as np\n",
    "import matplotlib.pyplot as plt\n",
    "import os\n",
    "# from PIL import Image\n",
    "BASE_DIR = os.getcwd()"
   ]
  },
  {
   "cell_type": "code",
   "execution_count": null,
   "metadata": {},
   "outputs": [
    {
     "name": "stdout",
     "output_type": "stream",
     "text": [
      "Device using: cuda\n"
     ]
    }
   ],
   "source": [
    "device = \"cuda\"if torch.cuda.is_available() else \"cpu\"\n",
    "print(\"Device using:\", device)"
   ]
  },
  {
   "cell_type": "code",
   "execution_count": null,
   "metadata": {},
   "outputs": [],
   "source": [
    "class ImageDataset(Dataset):\n",
    "    def __init__(self,data,label):\n",
    "        super().__init__()\n",
    "        self.data = data\n",
    "        self.label = label\n",
    "    def __len__(self):\n",
    "        return len(self.data)\n",
    "    def __getitem__(self, index):\n",
    "        image = self.data.iloc[index]\n",
    "        label = torch.tensor(self.label[index], dtype=torch.float32)\n",
    "        return image,label"
   ]
  },
  {
   "cell_type": "code",
   "execution_count": null,
   "metadata": {},
   "outputs": [
    {
     "name": "stdout",
     "output_type": "stream",
     "text": [
      "753\n"
     ]
    }
   ],
   "source": [
    "data_dict = torch.load(os.path.join(BASE_DIR,\"Cleaned_data.pt\"),weights_only=False)\n",
    "tensor__data = data_dict['data']\n",
    "tensor__data = torch.stack(tensor__data.tolist())\n",
    "label__data = data_dict['label']\n",
    "label__data = [0 if a==\"cat\"else 1 if a==\"dog\" else 2 for a in label__data]\n",
    "label__data = torch.tensor(label__data)\n",
    "train_dataset = TensorDataset(tensor__data, label__data)\n",
    "tensor__val = data_dict['valdata']\n",
    "tensor__val = torch.stack(tensor__val.tolist())\n",
    "label__val = data_dict['vallabel']\n",
    "label__val = [0 if a==\"cat\"else 1 if a==\"dog\" else 2 for a in label__val]\n",
    "label__val = torch.tensor(label__val)\n",
    "val_dataset = TensorDataset(tensor__val, label__val)\n",
    "print(len(val_dataset))\n",
    "# print(f\"Data tensor shape: {tensor__data.shape}\")\n",
    "# print(type(tensor__data), {tensor__data[0]})\n",
    "# print(f\"Label data sample: {label__data[:10]}\")\n",
    "# dataset = ImageDataset(tensor__data,label__data)\n",
    "# train_size = int(0.8 * len(dataset))  # 80% for training\n",
    "# val_size = len(dataset) - train_size\n",
    "# indices = torch.randperm(len(dataset)).tolist()\n",
    "# train_indices = indices[:train_size]\n",
    "# val_indices = indices[train_size:]\n",
    "# train_sampler = SubsetRandomSampler(train_indices)\n",
    "# val_sampler = SubsetRandomSampler(val_indices)"
   ]
  },
  {
   "cell_type": "code",
   "execution_count": null,
   "metadata": {},
   "outputs": [
    {
     "name": "stdout",
     "output_type": "stream",
     "text": [
      "Dataset length: 12\n",
      "Dataset length: 12\n"
     ]
    }
   ],
   "source": [
    "bs=64\n",
    "num_workers=2\n",
    "# train_size = int(0.8 * len(dataset))  # 80% for training\n",
    "# val_size = len(dataset) - train_size\n",
    "# indices = torch.randperm(len(dataset)).tolist()\n",
    "# train_indices = indices[:train_size]\n",
    "# val_indices = indices[train_size:]\n",
    "# train_sampler = SubsetRandomSampler(train_indices)\n",
    "# val_sampler = SubsetRandomSampler(val_indices)\n",
    "train_loader = DataLoader(dataset=train_dataset,shuffle=True,batch_size=bs)#,num_workers=num_workers)\n",
    "val_loader = DataLoader(dataset=val_dataset,shuffle=True,batch_size=bs)\n",
    "# val_loader = DataLoader(dataset=dataset,sampler=val_sampler,batch_size=bs,num_workers=num_workers,pin_memory=True)\n",
    "print(f\"Dataset length: {len(train_loader)}\")\n",
    "print(f\"Dataset length: {len(val_loader)}\")\n",
    "# print(f\"Train loader batches: {next(iter(train_loader))}\")"
   ]
  },
  {
   "cell_type": "code",
   "execution_count": null,
   "metadata": {},
   "outputs": [],
   "source": [
    "# for image, label in train_loader:\n",
    "#     print(f\"Image shape: {image.shape}\")\n",
    "#     print(f\"labels shape: {label.shape}\")\n",
    "#     break"
   ]
  },
  {
   "cell_type": "code",
   "execution_count": null,
   "metadata": {},
   "outputs": [],
   "source": [
    "class PetClassificationCNN(nn.Module):\n",
    "    def __init__(self,input_size=1,output_size=3,kernel=3,stride=2,padding=1):\n",
    "        super(PetClassificationCNN,self).__init__()\n",
    "        self.conv1 = nn.Conv2d(in_channels=input_size,out_channels=32,kernel_size=kernel,stride=stride,padding=padding)\n",
    "        self.bn1 = nn.BatchNorm2d(32)\n",
    "        self.relu1 = nn.ReLU(inplace=True)\n",
    "        self.pool1 = nn.MaxPool2d(kernel_size=kernel,stride=stride)\n",
    "        self.dp1 = nn.Dropout(p=0.5)\n",
    "\n",
    "        self.conv2 = nn.Conv2d(in_channels=32,out_channels=64,kernel_size=kernel,stride=stride,padding=padding)\n",
    "        self.bn2 = nn.BatchNorm2d(64)\n",
    "        self.relu2 = nn.ReLU(inplace=True)\n",
    "        self.pool2 = nn.MaxPool2d(kernel_size=kernel,stride=stride)\n",
    "        self.dp2 = nn.Dropout(p=0.5)\n",
    "\n",
    "        self.conv3 = nn.Conv2d(in_channels=64,out_channels=16,kernel_size=kernel,stride=stride,padding=padding)\n",
    "        self.bn3 = nn.BatchNorm2d(16)\n",
    "        self.relu3 = nn.ReLU(inplace=True)\n",
    "        self.pool3 = nn.MaxPool2d(kernel_size=kernel,stride=stride)\n",
    "        self.dp3 = nn.Dropout(p=0.5)\n",
    "\n",
    "        # self.conv4 = nn.Conv2d(in_channels=16,out_channels=32,kernel_size=kernel,stride=stride,padding=padding)\n",
    "        # self.bn4 = nn.BatchNorm2d(32)\n",
    "        # self.relu4 = nn.ReLU(inplace=True)\n",
    "        # self.pool4 = nn.MaxPool2d(kernel_size=kernel,stride=stride)\n",
    "        # self.dp4 = nn.Dropout(p=0.25)\n",
    "\n",
    "        # self.conv5 = nn.Conv2d(in_channels=32,out_channels=16,kernel_size=kernel,stride=stride,padding=padding)\n",
    "        # self.bn5 = nn.BatchNorm2d(16)\n",
    "        # self.relu5 = nn.ReLU(inplace=True)\n",
    "        # self.pool5 = nn.MaxPool2d(kernel_size=kernel,stride=stride)\n",
    "        # self.dp5 = nn.Dropout(p=0.25)\n",
    "\n",
    "        self.fc4 = nn.Linear(16, 512)\n",
    "        self.relu4 = nn.ReLU(inplace=True) \n",
    "\n",
    "        self.dp4 = nn.Dropout(p=0.5)\n",
    "        \n",
    "        self.fc5 = nn.Linear(512, output_size)\n",
    "    \n",
    "    def forward(self,x):\n",
    "        # print('check')\n",
    "        x=self.pool1(self.relu1(self.bn1(self.conv1(x))))\n",
    "        x=self.dp1(x)\n",
    "        x=self.pool2(self.relu2(self.bn2(self.conv2(x))))\n",
    "        x=self.dp2(x)\n",
    "        x=self.pool3(self.relu3(self.bn3(self.conv3(x))))\n",
    "        x=self.dp3(x)\n",
    "        # x=self.pool4(self.relu4(self.bn4(self.conv4(x))))\n",
    "        # print(x.shape)\n",
    "        # x=self.dp4(x)\n",
    "        # x=self.pool5(self.relu5(self.bn5(self.conv5(x))))\n",
    "        # x=self.dp5(x)\n",
    "        x = x.view(x.size(0), -1)\n",
    "        x = self.relu4(self.fc4(x))  # fc9 + relu\n",
    "        x = self.dp4(x)  # dropout10\n",
    "        return self.fc5(x)"
   ]
  },
  {
   "cell_type": "code",
   "execution_count": null,
   "metadata": {},
   "outputs": [],
   "source": [
    "# sample_batch, sample_labels = next(iter(train_loader))\n",
    "# input_channels = sample_batch.shape[1]  # 1 for grayscale\n",
    "# height = sample_batch.shape[2]          # 299\n",
    "# width = sample_batch.shape[3]           # 299\n",
    "num_classes = 3   \n",
    "learning = 0.001\n",
    "epochs = 100\n",
    "criteria = nn.CrossEntropyLoss()\n",
    "model = PetClassificationCNN(3,3).to(device=device)\n",
    "optium = optim.AdamW(model.parameters(),lr=learning,weight_decay=0.1)"
   ]
  },
  {
   "cell_type": "code",
   "execution_count": null,
   "metadata": {},
   "outputs": [
    {
     "name": "stdout",
     "output_type": "stream",
     "text": [
      "epoch: [1/100], train loss: 14.788622, train acc: 0.324037, val loss: 13.202358, val acc: 0.333333\n",
      "epoch: [2/100], train loss: 13.138798, train acc: 0.346614, val loss: 13.130538, val acc: 0.342629\n",
      "epoch: [3/100], train loss: 12.953126, train acc: 0.411687, val loss: 13.029421, val acc: 0.410359\n",
      "epoch: [4/100], train loss: 12.399044, train acc: 0.549801, val loss: 12.755975, val acc: 0.470120\n",
      "epoch: [5/100], train loss: 11.223255, train acc: 0.571049, val loss: 13.158586, val acc: 0.472776\n",
      "epoch: [6/100], train loss: 10.691787, train acc: 0.584329, val loss: 12.795654, val acc: 0.494024\n",
      "epoch: [7/100], train loss: 10.020990, train acc: 0.632138, val loss: 14.465904, val acc: 0.452855\n",
      "epoch: [8/100], train loss: 9.464274, train acc: 0.667995, val loss: 11.432413, val acc: 0.559097\n",
      "epoch: [9/100], train loss: 8.029157, train acc: 0.729084, val loss: 11.157275, val acc: 0.579017\n"
     ]
    },
    {
     "ename": "KeyboardInterrupt",
     "evalue": "",
     "output_type": "error",
     "traceback": [
      "\u001b[1;31m---------------------------------------------------------------------------\u001b[0m",
      "\u001b[1;31mKeyboardInterrupt\u001b[0m                         Traceback (most recent call last)",
      "Cell \u001b[1;32mIn[9], line 35\u001b[0m\n\u001b[0;32m     33\u001b[0m output \u001b[38;5;241m=\u001b[39m model(image)\n\u001b[0;32m     34\u001b[0m loss \u001b[38;5;241m=\u001b[39m criteria(output,label)\n\u001b[1;32m---> 35\u001b[0m current_val_loss \u001b[38;5;241m+\u001b[39m\u001b[38;5;241m=\u001b[39m loss\u001b[38;5;241m.\u001b[39mitem()\n\u001b[0;32m     36\u001b[0m _, predicted \u001b[38;5;241m=\u001b[39m torch\u001b[38;5;241m.\u001b[39mmax(output, \u001b[38;5;241m1\u001b[39m)\n\u001b[0;32m     37\u001b[0m correct_pred \u001b[38;5;241m+\u001b[39m\u001b[38;5;241m=\u001b[39m (predicted \u001b[38;5;241m==\u001b[39m label)\u001b[38;5;241m.\u001b[39msum()\u001b[38;5;241m.\u001b[39mitem()\n",
      "\u001b[1;31mKeyboardInterrupt\u001b[0m: "
     ]
    }
   ],
   "source": [
    "# torch.cuda.empty_cache()\n",
    "# scaler = torch.cuda.amp.GradScaler(device)\n",
    "model.train()\n",
    "train_loss, train_accuracy = [], []\n",
    "val_loss, val_accuracy = [], []\n",
    "for epoch in range(epochs):\n",
    "    # print(\"Entering training loop...\")\n",
    "    correct_pred, total_pred, current_train_loss = 0,0,0\n",
    "    for image, label in train_loader:\n",
    "        # print('check')\n",
    "        image, label = image.to(device),label.to(device)\n",
    "        # torch.cuda.synchronize()\n",
    "        optium.zero_grad()\n",
    "        output = model(image)\n",
    "        loss = criteria(output,label)\n",
    "        current_train_loss += loss.item()\n",
    "        # print(output , label)\n",
    "        _, predicted = torch.max(output, 1)\n",
    "        correct_pred += (predicted == label).sum().item()\n",
    "        total_pred += label.size(0)\n",
    "        # print(correct_pred,total_pred)\n",
    "        loss.backward()\n",
    "        optium.step()\n",
    "    train_loss.append(current_train_loss)\n",
    "    train_accuracy.append(correct_pred/total_pred)\n",
    "    # print(correct_pred,total_pred)\n",
    "    model.eval()\n",
    "    with torch.no_grad():\n",
    "        correct_pred, total_pred,current_val_loss = 0,0,0\n",
    "        for image,label in val_loader:\n",
    "            image, label = image.to(device),label.to(device)\n",
    "            # torch.cuda.synchronize()\n",
    "            output = model(image)\n",
    "            loss = criteria(output,label)\n",
    "            current_val_loss += loss.item()\n",
    "            _, predicted = torch.max(output, 1)\n",
    "            correct_pred += (predicted == label).sum().item()\n",
    "            total_pred += label.size(0)\n",
    "        val_accuracy.append(correct_pred/total_pred)\n",
    "        val_loss.append(current_val_loss)\n",
    "    print(f\"\"\"epoch: [{epoch+1}/{epochs}], train loss: {current_train_loss:4f}, train acc: {train_accuracy[-1]:4f}, val loss: {current_val_loss:4f}, val acc: {val_accuracy[-1]:4f}\"\"\")\n",
    "# print(correct_pred,total_pred)"
   ]
  },
  {
   "cell_type": "code",
   "execution_count": null,
   "metadata": {},
   "outputs": [
    {
     "data": {
      "image/png": "[encoded data removed]",
      "text/plain": [
       "<Figure size 1200x500 with 1 Axes>"
      ]
     },
     "metadata": {},
     "output_type": "display_data"
    },
    {
     "data": {
      "image/png": "[encoded data removed]",
      "text/plain": [
       "<Figure size 640x480 with 1 Axes>"
      ]
     },
     "metadata": {},
     "output_type": "display_data"
    }
   ],
   "source": [
    "epochslst = list(range(1, epochs+1))\n",
    "plt.figure(figsize=(12,5))\n",
    "plt.subplot(1,2,1)\n",
    "plt.plot(epochslst,train_loss,label=\"Train Loss\")\n",
    "plt.plot(epochslst,val_loss,label=\"Valuation Loss\")\n",
    "plt.xlabel(\"Epoch\")\n",
    "plt.ylabel(\"Loss\")\n",
    "plt.legend()\n",
    "plt.show()\n",
    "plt.subplot(1,2,1)\n",
    "plt.plot(epochslst,train_accuracy,label=\"Train Accuracy\")\n",
    "plt.plot(epochslst,val_accuracy,label=\"Valuation Accuracy\")\n",
    "plt.xlabel(\"Epoch\")\n",
    "plt.ylabel(\"Accuracy\")\n",
    "plt.legend()\n",
    "plt.show()"
   ]
  },
  {
   "cell_type": "code",
   "execution_count": null,
   "metadata": {},
   "outputs": [],
   "source": [
    "torch.save(model.state_dict(),'DCWreg_CNN.pth')"
   ]
  }
 ],
 "metadata": {
  "kernelspec": {
   "display_name": "deeplearning",
   "language": "python",
   "name": "python3"
  },
  "language_info": {
   "codemirror_mode": {
    "name": "ipython",
    "version": 3
   },
   "file_extension": ".py",
   "mimetype": "text/x-python",
   "name": "python",
   "nbconvert_exporter": "python",
   "pygments_lexer": "ipython3",
   "version": "3.12.3"
  }
 },
 "nbformat": 4,
 "nbformat_minor": 2
}
